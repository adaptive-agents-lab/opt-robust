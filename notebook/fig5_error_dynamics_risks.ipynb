{
 "cells": [
  {
   "cell_type": "code",
   "execution_count": null,
   "metadata": {},
   "outputs": [],
   "source": [
    "cd '../'"
   ]
  },
  {
   "cell_type": "code",
   "execution_count": null,
   "metadata": {},
   "outputs": [],
   "source": [
    "%load_ext autoreload\n",
    "%autoreload 2"
   ]
  },
  {
   "cell_type": "code",
   "execution_count": null,
   "metadata": {},
   "outputs": [],
   "source": [
    "import torch\n",
    "import numpy as np\n",
    "\n",
    "from src.utils_freq import rgb2gray, dct, dct2, idct, idct2, batch_dct, getDCTmatrix\n",
    "\n",
    "from models import linear_model\n",
    "\n",
    "import matplotlib\n",
    "import matplotlib.pyplot as plt\n",
    "\n",
    "# hyper params initalization\n",
    "_device = torch.device(\"cuda:0\" if torch.cuda.is_available() else \"cpu\")\n",
    "torch.set_printoptions(linewidth=200, edgeitems=5, precision=4)"
   ]
  },
  {
   "cell_type": "code",
   "execution_count": null,
   "metadata": {},
   "outputs": [],
   "source": [
    "args = {'d':3, \"itr\": 200001} \n",
    "\n",
    "w_tilde_star = torch.zeros(args['d'], 1)\n",
    "w_tilde_star[0] = 5\n",
    "w_tilde_star[1] = 10\n",
    "w_tilde_star[2] = 0\n",
    "\n",
    "sigma_tilde = torch.zeros(args['d'], 1)\n",
    "sigma_tilde[0] = 0.1\n",
    "sigma_tilde[1] = 0.05\n",
    "sigma_tilde[2] = 0.\n",
    "\n",
    "w_star = idct(w_tilde_star)\n",
    "model = linear_model(args[\"d\"]).to(_device)\n",
    "w_init = torch.randn_like(model.linear.weight)\n",
    "w_init[0,0] = 0.01\n",
    "w_init[0,1] = -0.01\n",
    "w_init[0,2] = 0.02\n",
    "w_init = idct(w_init.t()).t()"
   ]
  },
  {
   "cell_type": "code",
   "execution_count": null,
   "metadata": {},
   "outputs": [],
   "source": [
    "w_log = torch.zeros(args[\"d\"], args[\"itr\"], 4)\n",
    "w_log[:,:,0] = torch.load('./ckpt/synthetic-gd.pt')\n",
    "w_log[:,:,1] = torch.load('./ckpt/synthetic-adam.pt')\n",
    "w_log[:,:,2] = torch.load('./ckpt/synthetic-rmsprop.pt')\n",
    "w_log[:,:,3] = torch.load('./ckpt/synthetic-signgd.pt')"
   ]
  },
  {
   "cell_type": "code",
   "execution_count": null,
   "metadata": {},
   "outputs": [],
   "source": [
    "def plot_std_adv_risk(log, sigma_tilde, eps = 1, n=3, robust_w = None, save=None):\n",
    "    \n",
    "    fix, axs = plt.subplots(ncols = 2, nrows=1, figsize=(20, 3))\n",
    "\n",
    "    w_log = log.clone().detach()\n",
    "    w_tilde = torch.zeros_like(w_log)\n",
    "    \n",
    "    for i in range(4):\n",
    "        w_tilde[:,:,i] = batch_dct(w_log[:,:,i].t(), getDCTmatrix(3)).t()\n",
    "        \n",
    "    robust_w_tilde = robust_w[1]\n",
    "    e_tilde = w_tilde - robust_w_tilde.view(3,1,1).repeat(1,w_log.shape[1],4)\n",
    "    \n",
    "    \n",
    "    label = ['GD', 'Adam','RMSProp','SignGD']\n",
    "    \n",
    "    for i, method in enumerate(label):\n",
    "\n",
    "        std_risk = moving_average(e_tilde[0,:,i]**2*sigma_tilde[0] + e_tilde[1,:,i]**2*sigma_tilde[1], n=n).numpy()\n",
    "        x = np.arange(1,len(std_risk)+1)\n",
    "        axs[0].plot(x, std_risk, color = \"C\"+str(i), linewidth=3.0, marker = \"\", label=method, alpha = 0.8)\n",
    "\n",
    "        sum_term = sigma_tilde[0]**2 * e_tilde[0,:,i]**2 + sigma_tilde[1]**2 * e_tilde[1,:,i]**2\n",
    "        adv_risk = moving_average(0.5*(sum_term) + eps*np.sqrt(2/np.pi*sum_term)*np.sqrt((w_tilde[:,:,i]**2).sum(dim=0)) + eps**2/2*(w_tilde[:,:,i]**2).sum(dim=0), n=n).numpy()\n",
    "        axs[1].plot(x, adv_risk, color = \"C\"+str(i), linewidth=3.0, marker = \"\", alpha = 0.8)\n",
    "        print(adv_risk[-1])\n",
    "        \n",
    "        if method == 'GD':\n",
    "            x = np.arange(-10,len(std_risk)+10,1)\n",
    "            gd_adv_risk = np.ones_like(x)*adv_risk[-1]\n",
    "            axs[1].plot(x, gd_adv_risk, color = \"C\"+str(i), linewidth=2.0, marker = \"\", linestyle = (0, (5, 5)), alpha = 0.8)\n",
    "        elif method == 'SignGD':\n",
    "            x = np.arange(-10,len(std_risk)+10,1)\n",
    "            signGD_adv_risk = np.ones_like(x)*adv_risk[-1]\n",
    "            axs[1].plot(x, signGD_adv_risk, color = \"C\"+str(i), linewidth=2.0, marker = \"\", linestyle = (0, (5, 5)), alpha = 0.8)\n",
    "    \n",
    "    for i, loss in enumerate([\"s\",\"a\"]):\n",
    "        axs[i].tick_params(axis=\"both\", labelsize=15)\n",
    "        axs[i].set_ylabel(r\"$\\mathcal{R}_{\"+loss+\"} (t)$\", rotation=0, labelpad=20, fontsize=15)\n",
    "        axs[i].grid()\n",
    "        axs[i].set_xlabel(\"Training iteration (t)\",fontsize=15)\n",
    "        axs[i].set_xscale('log')\n",
    "        \n",
    "    axs[1].set_yticks([0, 50, 100, 123, 141, 150])\n",
    "\n",
    "    my_colors = ['k', 'k', 'k', '#1f77b4', '#d62728', 'k']\n",
    "    my_size = [15, 15, 15, 13, 13, 15]\n",
    "\n",
    "    for ticklabel, tickcolor, ticksize in zip(axs[1].get_yticklabels(), my_colors, my_size):\n",
    "        ticklabel.set_color(tickcolor)\n",
    "        ticklabel.set_size(ticksize)\n",
    "    \n",
    "    axs[0].legend(fontsize=15)\n",
    "    \n",
    "def moving_average(a, n=3):\n",
    "    if n==1:\n",
    "        return a\n",
    "    else:\n",
    "        ret = np.cumsum(a, dtype=float)\n",
    "        ret[n:] = ret[n:] - ret[:-n]\n",
    "\n",
    "        original_return = ret[n - 1:] / n\n",
    "        new_return = original_return\n",
    "        new_return[0]=a[0]\n",
    "    return new_return"
   ]
  },
  {
   "cell_type": "code",
   "execution_count": null,
   "metadata": {},
   "outputs": [],
   "source": [
    "def plot_w_tilde_LR_freq_only(log, n=3, robust_w = None):\n",
    "    \n",
    "    fix, axs = plt.subplots(ncols = 3, nrows=1, figsize=(20, 4))\n",
    "\n",
    "    w_log = log.clone().detach()\n",
    "    w_tilde = torch.zeros_like(w_log)\n",
    "    \n",
    "    for i in range(4):\n",
    "        w_tilde[:,:,i] = batch_dct(w_log[:,:,i].t(), getDCTmatrix(3)).t()\n",
    "        \n",
    "    robust_w_tilde = robust_w[1]\n",
    "    e_tilde = np.abs(w_tilde - robust_w_tilde.view(3,1,1).repeat(1,w_log.shape[1],4))\n",
    "\n",
    "    _iteration = 650\n",
    "    \n",
    "    label = ['GD', 'Adam','RMSProp','SignGD']\n",
    "    \n",
    "    for dim in range(3):\n",
    "        for i, method in enumerate(label):\n",
    "            y = moving_average(e_tilde[dim,:,i], n=n).numpy()\n",
    "            x = np.arange(1, len(y)+1)\n",
    "            axs[dim].semilogx(x,y, color = \"C\"+str(i), linewidth=3.0, marker = \"\", label= method if dim==0 else None, alpha = 0.8)\n",
    "        axs[dim].grid()\n",
    "        axs[dim].set_ylabel(r\"$|\\tilde{e}_{\"+str(dim)+\"}(t)|$\", rotation=0, labelpad=30, fontsize=15)\n",
    "        axs[dim].tick_params(axis=\"both\", labelsize=15)\n",
    "        axs[dim].set_xlabel(\"Training iteration (t)\",fontsize=15)\n",
    "\n",
    "    p0_xlimit, p0_ylimit = axs[0].get_xlim(), axs[0].get_ylim()\n",
    "    p1_xlimit, p1_ylimit = axs[1].get_xlim(), axs[1].get_ylim()\n",
    "    p2_xlimit, p2_ylimit = axs[2].get_xlim(), axs[2].get_ylim()\n",
    "    \n",
    "    \n",
    "    axs[0].legend(fontsize=15)\n",
    "    axs[0].add_patch(matplotlib.patches.Rectangle((_iteration,-1), -1000, 8.5, alpha = 0.1, color='g'))\n",
    "    axs[0].add_patch(matplotlib.patches.Rectangle((_iteration,-1), 400000, 8.5, alpha = 0.1, color='m'))\n",
    "    \n",
    "    axs[1].add_patch(matplotlib.patches.Rectangle((_iteration,-1), -1000, 13, alpha = 0.1, color='g'))\n",
    "    axs[1].add_patch(matplotlib.patches.Rectangle((_iteration,-1), 400000, 13, alpha = 0.1, color='m'))\n",
    "    \n",
    "    axs[2].add_patch(matplotlib.patches.Rectangle((_iteration,-1), -1000, 8.5, alpha = 0.1, color='g',label=r'$|\\tilde{e}_2|$ grows till $\\tilde{e}_0$ begins'+'\\n'+'oscillating around 0'))\n",
    "    axs[2].add_patch(matplotlib.patches.Rectangle((_iteration,-1), 400000, 8.5, alpha = 0.1, color='m',label=r'$|\\tilde{e}_2|$ cannot be corrected'))\n",
    "    axs[2].legend(fontsize=14,loc=(0.40,0.2))\n",
    "    \n",
    "    fix.tight_layout()\n",
    "    \n",
    "    axs[0].set_xlim(p0_xlimit)\n",
    "    axs[1].set_xlim(p1_xlimit)\n",
    "    axs[2].set_xlim(p2_xlimit)\n",
    "    axs[0].set_ylim(p0_ylimit)\n",
    "    axs[1].set_ylim(p1_ylimit)\n",
    "    axs[2].set_ylim(p2_ylimit)"
   ]
  },
  {
   "cell_type": "code",
   "execution_count": null,
   "metadata": {},
   "outputs": [],
   "source": [
    "plot_w_tilde_LR_freq_only(w_log, n=1, robust_w = [w_star, w_tilde_star])"
   ]
  },
  {
   "cell_type": "code",
   "execution_count": null,
   "metadata": {},
   "outputs": [],
   "source": [
    "plot_std_adv_risk(w_log, sigma_tilde, eps = np.sqrt(2), n=1, robust_w = [w_star, w_tilde_star])"
   ]
  },
  {
   "cell_type": "code",
   "execution_count": null,
   "metadata": {},
   "outputs": [],
   "source": []
  },
  {
   "cell_type": "code",
   "execution_count": null,
   "metadata": {},
   "outputs": [],
   "source": []
  }
 ],
 "metadata": {
  "kernelspec": {
   "display_name": "new-env",
   "language": "python",
   "name": "new-env"
  },
  "language_info": {
   "codemirror_mode": {
    "name": "ipython",
    "version": 3
   },
   "file_extension": ".py",
   "mimetype": "text/x-python",
   "name": "python",
   "nbconvert_exporter": "python",
   "pygments_lexer": "ipython3",
   "version": "3.9.15"
  },
  "varInspector": {
   "cols": {
    "lenName": 16,
    "lenType": 16,
    "lenVar": 40
   },
   "kernels_config": {
    "python": {
     "delete_cmd_postfix": "",
     "delete_cmd_prefix": "del ",
     "library": "var_list.py",
     "varRefreshCmd": "print(var_dic_list())"
    },
    "r": {
     "delete_cmd_postfix": ") ",
     "delete_cmd_prefix": "rm(",
     "library": "var_list.r",
     "varRefreshCmd": "cat(var_dic_list()) "
    }
   },
   "position": {
    "height": "307px",
    "left": "1098px",
    "right": "20px",
    "top": "50px",
    "width": "594px"
   },
   "types_to_exclude": [
    "module",
    "function",
    "builtin_function_or_method",
    "instance",
    "_Feature"
   ],
   "window_display": true
  }
 },
 "nbformat": 4,
 "nbformat_minor": 4
}
