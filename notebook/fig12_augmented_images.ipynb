{
 "cells": [
  {
   "cell_type": "code",
   "execution_count": null,
   "metadata": {},
   "outputs": [],
   "source": [
    "cd '../'"
   ]
  },
  {
   "cell_type": "code",
   "execution_count": null,
   "metadata": {},
   "outputs": [],
   "source": [
    "%load_ext autoreload\n",
    "%autoreload 2\n",
    "%matplotlib inline"
   ]
  },
  {
   "cell_type": "code",
   "execution_count": null,
   "metadata": {},
   "outputs": [],
   "source": [
    "import torch\n",
    "import matplotlib.pyplot as plt\n",
    "import numpy as np\n",
    "\n",
    "from src.utils_freq import rgb2gray, dct, dct2, idct, idct2, batch_dct2, getDCTmatrix, batch_idct2, batch_dct2_3channel, batch_idct2_3channel, equal_dist_from_top_left, mask_radial\n",
    "from src.utils_dataset import load_dataset\n",
    "\n",
    "_device = torch.device(\"cuda:0\" if torch.cuda.is_available() else \"cpu\")"
   ]
  },
  {
   "cell_type": "code",
   "execution_count": null,
   "metadata": {},
   "outputs": [],
   "source": [
    "dataset = 'cifar100'\n",
    "threshold_list = [90, 70, 50, 30, 10]\n",
    "\n",
    "train_loader, test_loader = load_dataset(dataset, 1)\n",
    "for x,y in test_loader:\n",
    "    X_original = x\n",
    "    _dim = X_original.shape[-1]\n",
    "    dct_matrix = getDCTmatrix(_dim).to(_device)\n",
    "    break\n",
    "X_dct = batch_dct2_3channel(X_original, dct_matrix)\n"
   ]
  },
  {
   "cell_type": "code",
   "execution_count": null,
   "metadata": {},
   "outputs": [],
   "source": [
    "fix, axs = plt.subplots(nrows = 1, ncols=3, figsize=(8, 2.4), tight_layout=True)\n",
    "\n",
    "axs[0].imshow(X_original.squeeze().permute(1,2,0).cpu().numpy())\n",
    "im = axs[1].imshow(X_dct.squeeze().abs().mean(dim=0).cpu().numpy(), cmap = 'gray')\n",
    "fix.colorbar(im, ax=axs[1])\n",
    "im = axs[2].imshow(X_dct.squeeze().abs().mean(dim=0).log().cpu().numpy(), cmap = 'gray')\n",
    "fix.colorbar(im, ax=axs[2])\n",
    "axs[0].axis('off')\n",
    "axs[1].axis('off')\n",
    "axs[2].set_xticks([])\n",
    "axs[2].set_yticks([])\n",
    "\n",
    "axs[0].set_title(r'$x$', fontsize=11)\n",
    "axs[1].set_title(r'$|\\tilde{x}|$', fontsize=11)\n",
    "axs[2].set_title(r'$\\log |\\tilde{x}|$', fontsize=11)\n",
    "\n",
    "plt.savefig('./figures/OB_{}_original.pdf'.format(dataset), bbox_inches='tight')  "
   ]
  },
  {
   "cell_type": "code",
   "execution_count": null,
   "metadata": {},
   "outputs": [],
   "source": [
    "plot_nrg_filtered_X = []\n",
    "plot_nrg_filtered_X_dct = []\n",
    "\n",
    "for threshold in threshold_list:\n",
    "    X_dct_abs_mean = X_dct.abs().mean(dim=1)\n",
    "    threshold_for_each_sample = torch.quantile(X_dct_abs_mean.view(-1, _dim*_dim), 1.-threshold/100., dim=1, keepdim=False)\n",
    "    X_threshold = X_dct_abs_mean >= threshold_for_each_sample.view(1,1,1)\n",
    "    \n",
    "    X_dct_new = X_dct*X_threshold.unsqueeze(1).expand(-1,X_original.shape[1],-1,-1)\n",
    "\n",
    "    X_new = batch_idct2_3channel(X_dct_new, dct_matrix)\n",
    "\n",
    "    plot_nrg_filtered_X.append(X_new.squeeze())\n",
    "    plot_nrg_filtered_X_dct.append(X_dct_new.squeeze())"
   ]
  },
  {
   "cell_type": "code",
   "execution_count": null,
   "metadata": {},
   "outputs": [],
   "source": [
    "plot_freq_mask = []\n",
    "\n",
    "spacing = _dim*np.sqrt(2)/2000\n",
    "\n",
    "for _threshold in threshold_list:\n",
    "    print(_threshold)\n",
    "    candidate_radius = np.arange(_dim*np.sqrt(2), 0, -spacing)\n",
    "\n",
    "    for _r in candidate_radius:\n",
    "        area = mask_radial(_dim, _r).sum()/_dim/_dim*100\n",
    "        if area < _threshold:\n",
    "            break\n",
    "\n",
    "    freq_mask = torch.tensor(mask_radial(_dim, _r),device=_device, dtype= torch.float16).unsqueeze(2).expand(-1,-1,X_original.shape[1]).squeeze()\n",
    "    plot_freq_mask.append(freq_mask.cpu())\n"
   ]
  },
  {
   "cell_type": "code",
   "execution_count": null,
   "metadata": {},
   "outputs": [],
   "source": [
    "plot_freq_filtered_X = []\n",
    "plot_freq_filtered_X_dct = []\n",
    "for i, _threshold in enumerate(threshold_list):\n",
    "    X_dct_new = batch_dct2_3channel(X_original, dct_matrix) * plot_freq_mask[i].permute(2,0,1).unsqueeze(0)\n",
    "    X_new = batch_idct2_3channel(X_dct_new.to(torch.float32), dct_matrix)\n",
    "    plot_freq_filtered_X.append(X_new.squeeze())\n",
    "    plot_freq_filtered_X_dct.append(X_dct_new.squeeze())"
   ]
  },
  {
   "cell_type": "code",
   "execution_count": null,
   "metadata": {},
   "outputs": [],
   "source": [
    "fix, axs = plt.subplots(nrows = 6, ncols=5, figsize=(12, 12), tight_layout=True)\n",
    "\n",
    "for i, _threshold in enumerate([90, 70, 50, 30, 10]):\n",
    "    \n",
    "    # row 1\n",
    "    axs[0,i].imshow(plot_nrg_filtered_X[i].permute(1,2,0).cpu().numpy(), cmap = 'gray')\n",
    "    axs[0,i].axis('off')\n",
    "\n",
    "    # row 2\n",
    "    im = axs[1,i].imshow((((plot_nrg_filtered_X[i].permute(1,2,0) - X_original.squeeze().permute(1,2,0)))*10).abs().squeeze().cpu().numpy(), cmap = 'gray')\n",
    "    fix.colorbar(im, ax=axs[1,i])\n",
    "    axs[1,i].set_xticks([])\n",
    "    axs[1,i].set_yticks([])\n",
    "\n",
    "    # row 3\n",
    "    im = axs[2,i].imshow((plot_nrg_filtered_X_dct[i][0] != 0), cmap = 'gray')\n",
    "    fix.colorbar(im, ax=axs[2,i])\n",
    "    axs[2,i].set_xticks([])\n",
    "    axs[2,i].set_yticks([])\n",
    "\n",
    "    # row 4\n",
    "    axs[3,i].imshow(plot_freq_filtered_X[i].permute(1,2,0).cpu().numpy(), cmap = 'gray')\n",
    "    axs[3,i].axis('off')\n",
    "\n",
    "    # row 5\n",
    "    im = axs[4,i].imshow((((plot_freq_filtered_X[i].permute(1,2,0) - X_original.squeeze().permute(1,2,0)))*10).abs().squeeze().cpu().numpy(), cmap = 'gray')\n",
    "    fix.colorbar(im, ax=axs[4,i])\n",
    "    axs[4,i].set_xticks([])\n",
    "    axs[4,i].set_yticks([])\n",
    "\n",
    "    # row 6\n",
    "    im = axs[5,i].imshow((plot_freq_mask[i][:,:,0] != 0), cmap = 'gray')\n",
    "    fix.colorbar(im, ax=axs[5,i])\n",
    "    axs[5,i].set_xticks([])\n",
    "    axs[5,i].set_yticks([])\n",
    "    \n",
    "\n",
    "    axs[0,i].set_title(r'$\\Phi_{nrg}(x,$'+str(100-_threshold)+r'$)$', fontsize=11)\n",
    "    axs[1,i].set_title(r'$|x - \\Phi_{nrg}(x,$'+str(100-_threshold)+r'$)| \\times 10$', fontsize=11)\n",
    "    axs[2,i].set_title(r'$M_{nrg}(\\tilde{x},$'+str(100-_threshold)+r'$)$', fontsize=11)\n",
    "    axs[3,i].set_title(r'$\\Phi_{freq}(x,$'+str(100-_threshold)+r'$)$', fontsize=11)\n",
    "    axs[4,i].set_title(r'$|x - \\Phi_{freq}(x,$'+str(100-_threshold)+r'$)| \\times 10$', fontsize=11)\n",
    "    axs[5,i].set_title(r'$M_{freq}($'+str(100-_threshold)+r'$)$', fontsize=11)\n",
    "        \n",
    "plt.tight_layout()\n",
    "\n",
    "plt.savefig('./figures/OB_{}_modified.pdf'.format(dataset), bbox_inches='tight')  "
   ]
  }
 ],
 "metadata": {
  "kernelspec": {
   "display_name": "new-env",
   "language": "python",
   "name": "new-env"
  },
  "language_info": {
   "codemirror_mode": {
    "name": "ipython",
    "version": 3
   },
   "file_extension": ".py",
   "mimetype": "text/x-python",
   "name": "python",
   "nbconvert_exporter": "python",
   "pygments_lexer": "ipython3",
   "version": "3.9.15"
  }
 },
 "nbformat": 4,
 "nbformat_minor": 4
}
