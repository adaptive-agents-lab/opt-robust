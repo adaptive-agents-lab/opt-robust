{
 "cells": [
  {
   "cell_type": "code",
   "execution_count": null,
   "metadata": {},
   "outputs": [],
   "source": [
    "cd '../'"
   ]
  },
  {
   "cell_type": "code",
   "execution_count": null,
   "metadata": {},
   "outputs": [],
   "source": [
    "%load_ext autoreload\n",
    "%autoreload 2"
   ]
  },
  {
   "cell_type": "code",
   "execution_count": null,
   "metadata": {},
   "outputs": [],
   "source": [
    "import torch\n",
    "import torch.nn as nn\n",
    "import torch.optim as optim\n",
    "import numpy as np\n",
    "from tqdm import trange\n",
    "\n",
    "from src.utils_freq import rgb2gray, dct, dct2, idct, idct2, batch_dct2, getDCTmatrix\n",
    "\n",
    "from models import linear_model\n",
    "from src.linear_analysis import train_linear_model\n",
    "\n",
    "from collections import defaultdict\n",
    "import ipdb\n",
    "import copy\n",
    "\n",
    "import time\n",
    "\n",
    "# hyper params initalization\n",
    "_device = torch.device(\"cuda:0\" if torch.cuda.is_available() else \"cpu\")\n",
    "torch.set_printoptions(linewidth=200, edgeitems=5, precision=4)"
   ]
  },
  {
   "cell_type": "code",
   "execution_count": null,
   "metadata": {},
   "outputs": [],
   "source": [
    "args = {\"itr\": 200001, # 8001 works with 0.2, 2001 works with 0.1\n",
    "        \"d\": 3,\n",
    "        \"lr\": 1e-2} \n",
    "\n",
    "w_log = torch.zeros(args[\"d\"], args[\"itr\"], 4)\n",
    "\n",
    "w_tilde_star = torch.zeros(args['d'], 1)\n",
    "w_tilde_star[0] = 5\n",
    "w_tilde_star[1] = 10\n",
    "w_tilde_star[2] = 0\n",
    "\n",
    "sigma_tilde = torch.zeros(args['d'], 1)\n",
    "sigma_tilde[0] = 0.1\n",
    "sigma_tilde[1] = 0.05\n",
    "sigma_tilde[2] = 0.\n",
    "\n",
    "w_star = idct(w_tilde_star)\n",
    "model = linear_model(args[\"d\"]).to(_device)\n",
    "w_init = torch.randn_like(model.linear.weight)\n",
    "w_init[0,0] = 0.01\n",
    "w_init[0,1] = -0.01\n",
    "w_init[0,2] = 0.02\n",
    "\n",
    "print(\"|A(0)|: {}\\t |B(0)|: {}\".format(np.sqrt(3)/3*sigma_tilde[0]**2*w_tilde_star[0],\n",
    "                                      np.sqrt(2)/2*sigma_tilde[1]**2*w_tilde_star[1]))\n",
    "\n",
    "w_init = idct(w_init.t()).t()\n",
    "model.linear.weight = torch.nn.parameter.Parameter(w_init)\n",
    "\n",
    "for i, opt_method in enumerate(['gd', 'signGD', 'adam', 'rmsp']):\n",
    "    \n",
    "    print(opt_method)\n",
    "    t0 = time.time()\n",
    "    model_copy = copy.deepcopy(model)\n",
    "    model_copy.to(_device)\n",
    "    \n",
    "\n",
    "    if opt_method in ['gd','signGD']:\n",
    "        opt = optim.SGD(model_copy.parameters(), lr = args[\"lr\"]) \n",
    "    elif opt_method == 'adam':\n",
    "        opt = optim.Adam(model_copy.parameters(), lr = args[\"lr\"])\n",
    "    elif opt_method == 'rmsp':\n",
    "        opt = optim.RMSprop(model_copy.parameters(), lr = args[\"lr\"])\n",
    "        \n",
    "    log = train_linear_model(args, w_tilde_star, sigma_tilde, model_copy, opt, opt_method == 'signGD', _device)\n",
    "    \n",
    "    torch.save(log[\"w\"], './notebook/synthetic-'+opt_method+'.pt')\n",
    "    t1 = time.time()\n",
    "    print('total time: {0:.2f}s'.format(t1-t0))"
   ]
  },
  {
   "cell_type": "code",
   "execution_count": null,
   "metadata": {},
   "outputs": [],
   "source": []
  }
 ],
 "metadata": {
  "kernelspec": {
   "display_name": "new-env",
   "language": "python",
   "name": "new-env"
  },
  "language_info": {
   "codemirror_mode": {
    "name": "ipython",
    "version": 3
   },
   "file_extension": ".py",
   "mimetype": "text/x-python",
   "name": "python",
   "nbconvert_exporter": "python",
   "pygments_lexer": "ipython3",
   "version": "3.9.15"
  },
  "varInspector": {
   "cols": {
    "lenName": 16,
    "lenType": 16,
    "lenVar": 40
   },
   "kernels_config": {
    "python": {
     "delete_cmd_postfix": "",
     "delete_cmd_prefix": "del ",
     "library": "var_list.py",
     "varRefreshCmd": "print(var_dic_list())"
    },
    "r": {
     "delete_cmd_postfix": ") ",
     "delete_cmd_prefix": "rm(",
     "library": "var_list.r",
     "varRefreshCmd": "cat(var_dic_list()) "
    }
   },
   "position": {
    "height": "307px",
    "left": "1098px",
    "right": "20px",
    "top": "50px",
    "width": "594px"
   },
   "types_to_exclude": [
    "module",
    "function",
    "builtin_function_or_method",
    "instance",
    "_Feature"
   ],
   "window_display": true
  }
 },
 "nbformat": 4,
 "nbformat_minor": 4
}
