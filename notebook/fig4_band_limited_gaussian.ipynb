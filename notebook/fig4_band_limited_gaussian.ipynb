{
 "cells": [
  {
   "cell_type": "code",
   "execution_count": null,
   "metadata": {},
   "outputs": [],
   "source": [
    "cd '../'"
   ]
  },
  {
   "cell_type": "code",
   "execution_count": null,
   "metadata": {},
   "outputs": [],
   "source": [
    "%load_ext autoreload\n",
    "%autoreload 2\n",
    "%matplotlib inline"
   ]
  },
  {
   "cell_type": "code",
   "execution_count": null,
   "metadata": {},
   "outputs": [],
   "source": [
    "import torch\n",
    "import numpy as np\n",
    "\n",
    "from src.utils_freq import rgb2gray, dct, dct2, idct, idct2, batch_dct2, getDCTmatrix,batch_idct2, batch_dct2_3channel, batch_idct2_3channel, equal_dist_from_top_left, mask_radial\n",
    "\n",
    "\n",
    "from models import PreActResNet18\n",
    "\n",
    "import matplotlib.pyplot as plt\n",
    "_device = torch.device(\"cuda:0\" if torch.cuda.is_available() else \"cpu\")\n",
    "\n",
    "\n",
    "from src.utils_dataset import load_dataset\n",
    "from src.evaluation import test_clean, test_gaussian, test_gaussian_LF_HF\n"
   ]
  },
  {
   "cell_type": "code",
   "execution_count": null,
   "metadata": {},
   "outputs": [],
   "source": [
    "dataset = 'cifar100'\n",
    "num_classes = 100\n",
    "dct_matrix = getDCTmatrix(28)\n",
    "train_loader, test_loader = load_dataset(dataset, 128)\n",
    "    \n",
    "model_sgd_path = '/scratch/ssd001/home/ama/workspace/opt-robust/ckpt/'+dataset+'-sgd.pt'\n",
    "model_adam_path = '/scratch/ssd001/home/ama/workspace/opt-robust/ckpt/'+dataset+'-adam.pt'\n",
    "model_rmsp_path = '/scratch/ssd001/home/ama/workspace/opt-robust/ckpt/'+dataset+'-rmsprop.pt'\n",
    "\n",
    "\n",
    "var = 0.01\n",
    "r_list = [10.781431922956449, 15.301968130724937, 19.04982421996594, 22.040185695902814, 24.75901837969084, 27.220978213474407, 29.441362859363448, 31.57831841836015, 34.71337554275011]\n",
    "model_sgd = PreActResNet18(dataset, num_classes, False, False)\n",
    "model_adam = PreActResNet18(dataset, num_classes, False, False)\n",
    "model_rmsp = PreActResNet18(dataset, num_classes, False, False)\n",
    "\n",
    "\n",
    "#sgd\n",
    "model_sgd.load_state_dict(torch.load(model_sgd_path))\n",
    "#adam\n",
    "model_adam.load_state_dict(torch.load(model_adam_path))\n",
    "#rmsp\n",
    "model_rmsp.load_state_dict(torch.load(model_rmsp_path))\n",
    "\n",
    "model_sgd.to(_device)\n",
    "model_adam.to(_device)\n",
    "model_rmsp.to(_device)\n",
    "print('model loaded')"
   ]
  },
  {
   "cell_type": "code",
   "execution_count": null,
   "metadata": {},
   "outputs": [],
   "source": [
    "test_acc_sgd, test_loss, _ = test_clean(test_loader, model_sgd, _device)\n",
    "test_acc_adam, test_loss, _ = test_clean(test_loader, model_adam, _device)\n",
    "test_acc_rmsp, test_loss, _ = test_clean(test_loader, model_rmsp, _device)"
   ]
  },
  {
   "cell_type": "code",
   "execution_count": null,
   "metadata": {},
   "outputs": [],
   "source": [
    "print(\"**************** accuracy ****************\")\n",
    "print('SGD\\t{:.2f}%'.format(test_acc_sgd))\n",
    "print('ADAM\\t{:.2f}%'.format(test_acc_adam))\n",
    "print('RmsProp\\t{:.2f}%'.format(test_acc_rmsp))"
   ]
  },
  {
   "cell_type": "code",
   "execution_count": null,
   "metadata": {},
   "outputs": [],
   "source": [
    "num_noise = 1\n",
    "\n",
    "acc_sgd = np.zeros([len(r_list)+1,1])\n",
    "acc_adam = np.zeros([len(r_list)+1,1])\n",
    "acc_rmsp = np.zeros([len(r_list)+1,1])\n",
    "\n",
    "_loss_sgd, _acc_sgd = test_gaussian_LF_HF(test_loader, dataset, model_sgd, var, r_list, num_noise, _device)\n",
    "_loss_adam, _acc_adam = test_gaussian_LF_HF(test_loader, dataset, model_adam, var, r_list, num_noise, _device)\n",
    "_loss_rmsp, _acc_rmsp = test_gaussian_LF_HF(test_loader, dataset, model_rmsp, var, r_list, num_noise, _device)\n",
    "\n",
    "acc_sgd[:,0] = _acc_sgd[0] - _acc_sgd[1]\n",
    "acc_adam[:,0] = _acc_adam[0] - _acc_adam[1]\n",
    "acc_rmsp[:,0] = _acc_rmsp[0] - _acc_rmsp[1]"
   ]
  },
  {
   "cell_type": "code",
   "execution_count": null,
   "metadata": {},
   "outputs": [],
   "source": [
    "if dataset == \"cifar10\":\n",
    "    print_dataset = 'CIFAR10'\n",
    "elif dataset == \"cifar100\":\n",
    "    print_dataset = 'CIFAR100'\n",
    "\n",
    "fix, axs = plt.subplots(nrows = 1, ncols=1, figsize=(8, 4))\n",
    "\n",
    "axs.plot(acc_sgd.mean(axis=1), color = 'C0', label = 'SGD')\n",
    "xrange = np.arange(acc_sgd.shape[0])\n",
    "fill_up = acc_sgd.mean(axis=1) + acc_sgd.std(axis=1)/acc_sgd.shape[1]\n",
    "fill_low = acc_sgd.mean(axis=1) - acc_sgd.std(axis=1)/acc_sgd.shape[1]\n",
    "axs.fill_between(xrange, fill_up, fill_low, color = \"C0\", alpha=0.3)\n",
    "\n",
    "\n",
    "axs.plot(acc_adam.mean(axis=1), color = 'C1', label = 'Adam')\n",
    "xrange = np.arange(acc_adam.shape[0])\n",
    "fill_up = acc_adam.mean(axis=1) + acc_adam.std(axis=1)/acc_adam.shape[1]\n",
    "fill_low = acc_adam.mean(axis=1) - acc_adam.std(axis=1)/acc_adam.shape[1]\n",
    "axs.fill_between(xrange, fill_up, fill_low, color = \"C1\", alpha=0.3)\n",
    "\n",
    "axs.plot(acc_rmsp.mean(axis=1), color = 'C2', label = 'RMSProp')\n",
    "xrange = np.arange(acc_rmsp.shape[0])\n",
    "fill_up = acc_rmsp.mean(axis=1) + acc_rmsp.std(axis=1)/acc_rmsp.shape[1]\n",
    "fill_low = acc_rmsp.mean(axis=1) - acc_rmsp.std(axis=1)/acc_rmsp.shape[1]\n",
    "axs.fill_between(xrange, fill_up, fill_low, color = \"C2\", alpha=0.3)\n",
    "\n",
    "axs.set_ylabel('Accuracy change under \\n band-limited perturbations (%)', fontsize=13)\n",
    "axs.set_xlabel('Perturbed frequency band (r)', fontsize=15)\n",
    "axs.set_title('{}: Freq contribution to acc change'.format(print_dataset), fontsize=14)\n",
    "axs.legend()\n",
    "axs.grid()\n",
    "\n",
    "plt.tight_layout()\n",
    "plt.savefig('./notebook/{}.pdf'.format(print_dataset))  "
   ]
  },
  {
   "cell_type": "code",
   "execution_count": null,
   "metadata": {},
   "outputs": [],
   "source": []
  },
  {
   "cell_type": "code",
   "execution_count": null,
   "metadata": {},
   "outputs": [],
   "source": []
  }
 ],
 "metadata": {
  "kernelspec": {
   "display_name": "new-env",
   "language": "python",
   "name": "new-env"
  },
  "language_info": {
   "codemirror_mode": {
    "name": "ipython",
    "version": 3
   },
   "file_extension": ".py",
   "mimetype": "text/x-python",
   "name": "python",
   "nbconvert_exporter": "python",
   "pygments_lexer": "ipython3",
   "version": "3.9.15"
  }
 },
 "nbformat": 4,
 "nbformat_minor": 4
}
