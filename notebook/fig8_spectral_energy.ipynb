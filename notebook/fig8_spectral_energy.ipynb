{
 "cells": [
  {
   "cell_type": "code",
   "execution_count": null,
   "metadata": {},
   "outputs": [],
   "source": [
    "cd '../'"
   ]
  },
  {
   "cell_type": "code",
   "execution_count": null,
   "metadata": {},
   "outputs": [],
   "source": [
    "%load_ext autoreload\n",
    "%autoreload 2\n",
    "%matplotlib inline"
   ]
  },
  {
   "cell_type": "code",
   "execution_count": null,
   "metadata": {},
   "outputs": [],
   "source": [
    "import matplotlib.pyplot as plt\n",
    "from src.utils_dataset import load_dataset\n",
    "from src.utils_freq import getDCTmatrix, batch_dct2_3channel"
   ]
  },
  {
   "cell_type": "code",
   "execution_count": null,
   "metadata": {},
   "outputs": [],
   "source": [
    "dataset = 'cifar100'\n",
    "dim=32\n",
    "\n",
    "dct_matrix = getDCTmatrix(dim)\n",
    "train_loader, test_loader = load_dataset(dataset, batch_size = 1000)\n",
    "for x,y in test_loader:\n",
    "    x=x\n",
    "    break\n",
    "\n",
    "nrg = batch_dct2(x, dct_matrix).abs().mean(dim=0) if dataset in ['mnist', 'fashionmnist'] else batch_dct2_3channel(x, dct_matrix).abs().mean(dim=[0,1]).permute(1,0)\n",
    "\n",
    "fix, axs = plt.subplots(nrows = 1, ncols=4, figsize=(16, 3))\n",
    "\n",
    "im = axs[0].imshow(nrg, cmap='viridis')\n",
    "fix.colorbar(im, ax=axs[0])\n",
    "\n",
    "x_points = [0,dim-1]\n",
    "y_points = [0,dim-1]\n",
    "axs[0].plot(x_points, y_points, linestyle='dashed', color='C3')\n",
    "im = axs[1].plot(nrg.diag(), color='C3')\n",
    "axs[1].grid()\n",
    "\n",
    "im = axs[2].imshow(nrg.log(), cmap='viridis')\n",
    "fix.colorbar(im, ax=axs[2])\n",
    "\n",
    "axs[2].plot(x_points, y_points, linestyle='dashed', color='C1')\n",
    "im = axs[3].plot(nrg.diag().log(), color='C1')\n",
    "axs[3].grid()\n",
    "\n",
    "axs[1].set_xlabel(r'$(i,i)$-th DCT Frequency Basis', fontsize=13)\n",
    "axs[1].set_ylabel('Magnitude of spectral energy', fontsize=13)\n",
    "axs[3].set_xlabel(r'$(i,i)$-th DCT Frequency Basis', fontsize=13)\n",
    "axs[3].set_ylabel('Log scale magnitude of \\n spectral energy', fontsize=13)\n",
    "axs[0].set_title('Spectral energy distribution \\n averaged over all training inputs', fontsize=13)\n",
    "axs[2].set_title('Log scale spectral energy distribution \\n averaged over all training inputs', fontsize=13)\n",
    "\n",
    "plt.tight_layout()\n",
    "plt.savefig('./figures/{}_spectral_energy.png'.format(dataset), bbox_inches='tight')  "
   ]
  },
  {
   "cell_type": "code",
   "execution_count": null,
   "metadata": {},
   "outputs": [],
   "source": []
  }
 ],
 "metadata": {
  "kernelspec": {
   "display_name": "new-env",
   "language": "python",
   "name": "new-env"
  },
  "language_info": {
   "codemirror_mode": {
    "name": "ipython",
    "version": 3
   },
   "file_extension": ".py",
   "mimetype": "text/x-python",
   "name": "python",
   "nbconvert_exporter": "python",
   "pygments_lexer": "ipython3",
   "version": "3.9.15"
  }
 },
 "nbformat": 4,
 "nbformat_minor": 4
}
